{
 "cells": [
  {
   "cell_type": "markdown",
   "metadata": {},
   "source": [
    "# Test Notebook - Grouped Answer Cells"
   ]
  },
  {
   "cell_type": "markdown",
   "metadata": {},
   "source": [
    "# Exercise 1\n",
    "\n",
    "Exercise description"
   ]
  },
  {
   "cell_type": "code",
   "execution_count": null,
   "metadata": {
    "group": "answer_1"
   },
   "outputs": [],
   "source": [
    "from __future__ import print_function\n",
    "print('This is my answer to exercise 1')"
   ]
  },
  {
   "cell_type": "markdown",
   "metadata": {},
   "source": [
    "# Exercise 2\n",
    "\n",
    "Exercise description"
   ]
  },
  {
   "cell_type": "code",
   "execution_count": null,
   "metadata": {
    "group": "answer_2"
   },
   "outputs": [],
   "source": [
    "from __future__ import print_function\n",
    "print('This is my answer to exercise 2')"
   ]
  },
  {
   "cell_type": "markdown",
   "metadata": {
    "group": "answer_2"
   },
   "source": [
    "This is my discussion about the answer to exercise 2."
   ]
  },
  {
   "cell_type": "markdown",
   "metadata": {},
   "source": [
    "# Exercise 3\n",
    "\n",
    "Exercise description"
   ]
  },
  {
   "cell_type": "code",
   "execution_count": null,
   "metadata": {},
   "outputs": [],
   "source": [
    "from __future__ import print_function\n",
    "print('Code snippet to describe the exercise')"
   ]
  },
  {
   "cell_type": "markdown",
   "metadata": {},
   "source": [
    "Further exercise description"
   ]
  },
  {
   "cell_type": "markdown",
   "metadata": {
    "group": "answer_3"
   },
   "source": [
    "This is my answer to exercise 3"
   ]
  },
  {
   "cell_type": "markdown",
   "metadata": {},
   "source": [
    "Another question in exercise 3"
   ]
  },
  {
   "cell_type": "markdown",
   "metadata": {
    "group": "answer_3"
   },
   "source": [
    "This is my answer to the second exercise 3 question"
   ]
  }
 ],
 "metadata": {
  "kernelspec": {
   "display_name": "Python 2",
   "language": "python",
   "name": "python2"
  },
  "language_info": {
   "codemirror_mode": {
    "name": "ipython",
    "version": 2
   },
   "file_extension": ".py",
   "mimetype": "text/x-python",
   "name": "python",
   "nbconvert_exporter": "python",
   "pygments_lexer": "ipython2",
   "version": "2.7.12"
  }
 },
 "nbformat": 4,
 "nbformat_minor": 2
}
