{
    "nbformat": 4, 
    "nbformat_minor": 2, 
    "cells": [
        {
            "source": [
                "Answer to question 1"
            ], 
            "cell_type": "markdown", 
            "metadata": {}
        }, 
        {
            "source": [
                "Answer to question 2"
            ], 
            "cell_type": "markdown", 
            "metadata": {}
        }, 
        {
            "outputs": [], 
            "cell_type": "code", 
            "metadata": {}, 
            "source": [
                "from __future__ import print_function\n", 
                "print('This is my answer to exercise 3')"
            ], 
            "execution_count": null
        }
    ], 
    "metadata": {
        "kernelspec": {
            "display_name": "Python 2", 
            "name": "python2", 
            "language": "python"
        }, 
        "language_info": {
            "mimetype": "text/x-python", 
            "nbconvert_exporter": "python", 
            "name": "python", 
            "file_extension": ".py", 
            "version": "2.7.12", 
            "pygments_lexer": "ipython2", 
            "codemirror_mode": {
                "version": 2, 
                "name": "ipython"
            }
        }
    }
}