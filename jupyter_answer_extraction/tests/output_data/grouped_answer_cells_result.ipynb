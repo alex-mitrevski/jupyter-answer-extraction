{
    "nbformat": 4, 
    "nbformat_minor": 2, 
    "cells": [
        {
            "source": [
                "# answer_1"
            ], 
            "cell_type": "markdown", 
            "metadata": {}
        }, 
        {
            "outputs": [], 
            "cell_type": "code", 
            "metadata": {
                "group": "answer_1"
            }, 
            "source": [
                "from __future__ import print_function\n", 
                "print('This is my answer to exercise 1')"
            ], 
            "execution_count": null
        }, 
        {
            "source": [
                "# answer_2"
            ], 
            "cell_type": "markdown", 
            "metadata": {}
        }, 
        {
            "outputs": [], 
            "cell_type": "code", 
            "metadata": {
                "group": "answer_2"
            }, 
            "source": [
                "from __future__ import print_function\n", 
                "print('This is my answer to exercise 2')"
            ], 
            "execution_count": null
        }, 
        {
            "source": [
                "This is my discussion about the answer to exercise 2."
            ], 
            "cell_type": "markdown", 
            "metadata": {
                "group": "answer_2"
            }
        }, 
        {
            "source": [
                "# answer_3"
            ], 
            "cell_type": "markdown", 
            "metadata": {}
        }, 
        {
            "source": [
                "This is my answer to exercise 3"
            ], 
            "cell_type": "markdown", 
            "metadata": {
                "group": "answer_3"
            }
        }, 
        {
            "source": [
                "This is my answer to the second exercise 3 question"
            ], 
            "cell_type": "markdown", 
            "metadata": {
                "group": "answer_3"
            }
        }
    ], 
    "metadata": {
        "kernelspec": {
            "display_name": "Python 2", 
            "name": "python2", 
            "language": "python"
        }, 
        "language_info": {
            "mimetype": "text/x-python", 
            "nbconvert_exporter": "python", 
            "name": "python", 
            "file_extension": ".py", 
            "version": "2.7.12", 
            "pygments_lexer": "ipython2", 
            "codemirror_mode": {
                "version": 2, 
                "name": "ipython"
            }
        }
    }
}